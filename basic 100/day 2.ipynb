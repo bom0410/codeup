{
 "cells": [
  {
   "cell_type": "markdown",
   "metadata": {},
   "source": [
    "# 1014 : [기초-입출력] 문자 2개 입력받아 순서 바꿔 출력하기(설명) 해결\n",
    "\n",
    "2개의 문자(ASCII CODE)를 입력받아서 순서를 바꿔 출력해보자."
   ]
  },
  {
   "cell_type": "markdown",
   "metadata": {},
   "source": [
    "### 입력\n",
    "2개의 문자가 공백으로 구분되어 입력된다.\n",
    "\n",
    "### 출력\n",
    "두 문자의 순서를 바꿔 출력한다.\n",
    "\n",
    "### 입력 예시   \n",
    "A b\n",
    "\n",
    "### 출력 예시\n",
    "b A"
   ]
  },
  {
   "cell_type": "code",
   "execution_count": 2,
   "metadata": {},
   "outputs": [
    {
     "name": "stdout",
     "output_type": "stream",
     "text": [
      "4 2\n",
      "2 4\n"
     ]
    }
   ],
   "source": [
    "a,b = input().split(\" \") # split 함수를 이용해 공백을 사이에 두고 두 개의 변수를 입력받는다\n",
    "print(b, a) # 두개의 변수에 각 값을 저장한 뒤 순서를 바꿔 출력한다"
   ]
  },
  {
   "cell_type": "markdown",
   "metadata": {},
   "source": [
    "## 1015 : [기초-입출력] 실수 입력받아 둘째 자리까지 출력하기(설명) 해결\n",
    "실수(float) 1개를 입력받아 저장한 후,\n",
    "저장되어 있는 값을 소수점 셋 째 자리에서 반올림하여\n",
    "소수점 이하 둘 째 자리까지 출력하시오.\n",
    "\n",
    "### 입력\n",
    "실수 1개가 입력된다.\n",
    "\n",
    "### 출력\n",
    "결과를 소수점 셋 째 자리에서 반올림 해, 소숫점 이하 둘째 자리까지 출력한다.\n",
    "(%.2f를 이용하면 된다.)\n",
    "\n",
    "### 입력 예시  \n",
    "1.59254\n",
    "\n",
    "### 출력 예시\n",
    "1.59"
   ]
  },
  {
   "cell_type": "code",
   "execution_count": 4,
   "metadata": {},
   "outputs": [
    {
     "name": "stdout",
     "output_type": "stream",
     "text": [
      "1.2493\n",
      "1.25\n"
     ]
    }
   ],
   "source": [
    "a = float(input())\n",
    "print(\"%.2f\" % a) # %.#f: #는 .뒤에 나오는 숫자까지만 을 뜻한다. "
   ]
  },
  {
   "cell_type": "markdown",
   "metadata": {},
   "source": [
    "## 1018 : [기초-입출력] 시간 입력받아 그대로 출력하기\n",
    "어떤 형식에 맞추어 시간이 입력될 때, 그대로 출력하는 연습을 해보자.\n",
    "\n",
    "### 입력\n",
    "시(hour)와 분(minute)이 \":\" 으로 구분되어 입력된다.\n",
    "\n",
    "### 출력\n",
    "입력받은 시간을 \"시:분\" 형식으로 출력한다.\n",
    "\n",
    "### 입력 예시  \n",
    "3:16\n",
    "\n",
    "\n",
    "### 출력 예시\n",
    "3:16"
   ]
  },
  {
   "cell_type": "code",
   "execution_count": 11,
   "metadata": {},
   "outputs": [
    {
     "name": "stdout",
     "output_type": "stream",
     "text": [
      "3:16\n",
      "3:16\n"
     ]
    }
   ],
   "source": [
    "print(input())"
   ]
  },
  {
   "cell_type": "code",
   "execution_count": 12,
   "metadata": {},
   "outputs": [
    {
     "name": "stdout",
     "output_type": "stream",
     "text": [
      "3:16\n",
      "3:16\n"
     ]
    }
   ],
   "source": [
    "a, b = input().split(':')\n",
    "print(int(a), int(b), sep=':')"
   ]
  },
  {
   "cell_type": "markdown",
   "metadata": {},
   "source": [
    "## 1019 : [기초-입출력] 연월일 입력받아 그대로 출력하기 해결\n",
    "년, 월, 일을 입력받아 지정된 형식으로 출력하는 연습을 해보자.\n",
    "\n",
    "### 입력\n",
    "연, 월, 일이 \".(닷)\"으로 구분되어 입력된다.\n",
    "\n",
    "### 출력\n",
    "입력받은 연, 월, 일을 yyyy.mm.dd 형식으로 출력한다.\n",
    "(%02d를 사용하면 2칸을 사용해 출력하는데, 한 자리 수인 경우 앞에 0을 붙여 출력한다.)\n",
    "\n",
    "### 입력 예시  \n",
    "2013.8.5\n",
    "\n",
    "### 출력 예시\n",
    "2013.08.05"
   ]
  },
  {
   "cell_type": "code",
   "execution_count": 29,
   "metadata": {},
   "outputs": [
    {
     "name": "stdout",
     "output_type": "stream",
     "text": [
      "2013.4.3\n",
      "2013.04.03\n"
     ]
    }
   ],
   "source": [
    "a,b,c=input().split('.')\n",
    "\n",
    "print('%04d' % int(a), end='.')\n",
    "print('%02d' % int(b), end='.')\n",
    "print('%02d' % int(c))"
   ]
  },
  {
   "cell_type": "markdown",
   "metadata": {},
   "source": [
    "## 1020 : [기초-입출력] 주민번호 입력받아 형태 바꿔 출력하기\n",
    "주민번호는 다음과 같이 구성된다.\n",
    "\n",
    "XXXXXX-XXXXXXX\n",
    "\n",
    "앞의 6자리는 생년월일(yymmdd)이고 뒤 7자리는 성별, 지역, 오류검출코드이다.\n",
    "주민번호를 입력받아 형태를 바꿔 출력해보자.\n",
    "\n",
    "### 입력\n",
    "주민번호 앞 6자리와 뒷 7자리가 '-'로 구분되어 입력된다.\n",
    "(입력값은 가상의 주민번호이다.)\n",
    "ex)110011-0000000\n",
    "\n",
    "### 출력\n",
    "'-'를 제외한 주민번호 13자리를 모두 붙여 출력한다.\n",
    "\n",
    "### 입력 예시  \n",
    "000907-1121112\n",
    "\n",
    "### 출력 예시\n",
    "0009071121112\n"
   ]
  },
  {
   "cell_type": "code",
   "execution_count": 33,
   "metadata": {},
   "outputs": [
    {
     "name": "stdout",
     "output_type": "stream",
     "text": [
      "123123-1234567\n",
      "1231231234567\n"
     ]
    }
   ],
   "source": [
    "# 내 답안\n",
    "a,b = input().split('-')\n",
    "print('%06d' % int(a), end='')\n",
    "print('%07d' % int(b))"
   ]
  },
  {
   "cell_type": "code",
   "execution_count": 34,
   "metadata": {},
   "outputs": [
    {
     "name": "stdout",
     "output_type": "stream",
     "text": [
      "123123-1234567\n",
      "1231231234567\n"
     ]
    }
   ],
   "source": [
    "# 모범답안\n",
    "a,b=input().split('-')\n",
    "print(a+b)"
   ]
  },
  {
   "cell_type": "code",
   "execution_count": null,
   "metadata": {},
   "outputs": [],
   "source": []
  }
 ],
 "metadata": {
  "kernelspec": {
   "display_name": "Python 3",
   "language": "python",
   "name": "python3"
  },
  "language_info": {
   "codemirror_mode": {
    "name": "ipython",
    "version": 3
   },
   "file_extension": ".py",
   "mimetype": "text/x-python",
   "name": "python",
   "nbconvert_exporter": "python",
   "pygments_lexer": "ipython3",
   "version": "3.7.4"
  }
 },
 "nbformat": 4,
 "nbformat_minor": 2
}
